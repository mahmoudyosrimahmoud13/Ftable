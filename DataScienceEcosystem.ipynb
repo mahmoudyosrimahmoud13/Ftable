{
 "cells": [
  {
   "cell_type": "markdown",
   "id": "cd5a5d66-ae29-4b3f-85e7-3fa4054a704f",
   "metadata": {},
   "source": [
    "# Data science ecosystem"
   ]
  },
  {
   "cell_type": "markdown",
   "id": "1cebe4ed-d0fa-4b71-8e42-89fd896fdac4",
   "metadata": {},
   "source": [
    "In this notebook, Data science tools and ecosystem are summarized."
   ]
  },
  {
   "cell_type": "markdown",
   "id": "1eaaf94a-1903-4956-a1cf-9c11706dbd36",
   "metadata": {},
   "source": [
    "Some of the popular languages that data scientists use:\n",
    "- python\n",
    "- R\n",
    "- Java script"
   ]
  },
  {
   "cell_type": "markdown",
   "id": "b2c7fc5a-e429-49d7-9f04-d65d65e1bf94",
   "metadata": {},
   "source": [
    "Some of the commonly used libraries used by data scientists include:\n",
    "- tesor flow\n",
    "- pands\n",
    "- numpy\n",
    "- matplotlib"
   ]
  },
  {
   "cell_type": "markdown",
   "id": "cd9d462f-0609-4876-a165-67446a947510",
   "metadata": {},
   "source": [
    "Some of the commonly used librarie used by data scientists include:\n",
    "- tesor flow\n",
    "- pands\n",
    "- numpy"
   ]
  },
  {
   "cell_type": "markdown",
   "id": "e89836d4-b3d7-4a01-a9d7-7201efd45c28",
   "metadata": {},
   "source": [
    ":--------:\n",
    "|Data science tools|\n",
    ":--------:\n",
    "|Apachie spark|\n",
    "|py tourch|\n",
    "|R studio|"
   ]
  },
  {
   "cell_type": "markdown",
   "id": "cc7bb471-444b-46af-baf8-2078d5bbea75",
   "metadata": {},
   "source": [
    "### Below a few examples of evaluating arithmetic expressions in python:\n",
    "- # *\n",
    "- # /\n",
    "- # +\n",
    "- # -"
   ]
  },
  {
   "cell_type": "code",
   "execution_count": 4,
   "id": "795a4424-db8b-44d1-b06a-7a81588894b7",
   "metadata": {
    "tags": []
   },
   "outputs": [
    {
     "data": {
      "text/plain": [
       "17"
      ]
     },
     "execution_count": 4,
     "metadata": {},
     "output_type": "execute_result"
    }
   ],
   "source": [
    "# This is a simple arithmetic expresion to multiply then add integers\n",
    "(3*4)+5"
   ]
  },
  {
   "cell_type": "code",
   "execution_count": 6,
   "id": "d850ee2c-fa30-42e5-bd69-084bd2f0a130",
   "metadata": {
    "tags": []
   },
   "outputs": [
    {
     "data": {
      "text/plain": [
       "3.3333333333333335"
      ]
     },
     "execution_count": 6,
     "metadata": {},
     "output_type": "execute_result"
    }
   ],
   "source": [
    "# This will convert 200 minuts into hours\n",
    "200/60"
   ]
  },
  {
   "cell_type": "markdown",
   "id": "a4ee8a4b-c286-457a-8a49-3da3d6681235",
   "metadata": {},
   "source": [
    "__Objectives__\n",
    "- popular data science languages.\n",
    "- Data science tools.\n",
    "- Dt"
   ]
  },
  {
   "cell_type": "code",
   "execution_count": null,
   "id": "b517d6d3-4b67-4206-9ff1-585849cc0e37",
   "metadata": {},
   "outputs": [],
   "source": []
  }
 ],
 "metadata": {
  "kernelspec": {
   "display_name": "Python",
   "language": "python",
   "name": "conda-env-python-py"
  },
  "language_info": {
   "codemirror_mode": {
    "name": "ipython",
    "version": 3
   },
   "file_extension": ".py",
   "mimetype": "text/x-python",
   "name": "python",
   "nbconvert_exporter": "python",
   "pygments_lexer": "ipython3",
   "version": "3.7.12"
  }
 },
 "nbformat": 4,
 "nbformat_minor": 5
}
